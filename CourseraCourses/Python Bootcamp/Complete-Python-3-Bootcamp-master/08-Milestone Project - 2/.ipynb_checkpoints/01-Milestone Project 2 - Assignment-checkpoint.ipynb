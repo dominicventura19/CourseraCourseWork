{
 "cells": [
  {
   "cell_type": "markdown",
   "metadata": {},
   "source": [
    "___\n",
    "\n",
    "<a href='https://www.udemy.com/user/joseportilla/'><img src='../Pierian_Data_Logo.png'/></a>\n",
    "___\n",
    "<center><em>Content Copyright by Pierian Data</em></center>"
   ]
  },
  {
   "cell_type": "markdown",
   "metadata": {},
   "source": [
    "# Milestone Project 2 - Blackjack Game\n",
    "In this milestone project you will be creating a Complete BlackJack Card Game in Python.\n",
    "\n",
    "Here are the requirements:\n",
    "\n",
    "* You need to create a simple text-based [BlackJack](https://en.wikipedia.org/wiki/Blackjack) game\n",
    "* The game needs to have one player versus an automated dealer.\n",
    "* The player can stand or hit.\n",
    "* The player must be able to pick their betting amount.\n",
    "* You need to keep track of the player's total money.\n",
    "* You need to alert the player of wins, losses, or busts, etc...\n",
    "\n",
    "And most importantly:\n",
    "\n",
    "* **You must use OOP and classes in some portion of your game. You can not just use functions in your game. Use classes to help you define the Deck and the Player's hand. There are many right ways to do this, so explore it well!**\n",
    "\n",
    "\n",
    "Feel free to expand this game. Try including multiple players. Try adding in Double-Down and card splits! Remember to you are free to use any resources you want and as always:\n",
    "\n",
    "# HAVE FUN!"
   ]
  },
  {
   "cell_type": "code",
   "execution_count": 4,
   "metadata": {},
   "outputs": [],
   "source": [
    "import random\n",
    "suits = ('Hearts', 'Spades', 'Diamonds', 'Clubs')\n",
    "values = {'Two':2, 'Three':3, 'Four':4, 'Five':5, 'Six':6, 'Seven':7, 'Eight':8, 'Nine':9, 'Ten':10, 'Jack':10, \n",
    "         'Queen':10, 'King':10, 'Ace':10}"
   ]
  },
  {
   "cell_type": "code",
   "execution_count": 7,
   "metadata": {},
   "outputs": [],
   "source": [
    "class Card:\n",
    "    def __init__(self, rank, suit):\n",
    "        self.rank = rank\n",
    "        self.suit = suit\n",
    "        self.value = values[rank]\n",
    "    def __str__(self):\n",
    "        return self.rank + ' of ' + self.suit"
   ]
  },
  {
   "cell_type": "code",
   "execution_count": 90,
   "metadata": {},
   "outputs": [
    {
     "name": "stdout",
     "output_type": "stream",
     "text": [
      "2\n"
     ]
    }
   ],
   "source": [
    "card = Card('Two', 'Hearts')\n",
    "print(card)"
   ]
  },
  {
   "cell_type": "code",
   "execution_count": 332,
   "metadata": {},
   "outputs": [],
   "source": [
    "class Deck:\n",
    "    def __init__(self):\n",
    "        self.all_cards = []\n",
    "        \n",
    "        for suit in suits:\n",
    "            for rank in values:\n",
    "                self.all_cards.append(Card(rank,suit))\n",
    "                \n",
    "    def __len__(self):\n",
    "        print(len(self.all_cards))\n",
    "        \n",
    "    def shuffle_deck(self):\n",
    "        random.shuffle(self.all_cards)\n",
    "        \n",
    "    def deal_card(self):\n",
    "        return self.all_cards.pop(0)\n",
    "    \n",
    "            "
   ]
  },
  {
   "cell_type": "code",
   "execution_count": 361,
   "metadata": {},
   "outputs": [],
   "source": [
    "deck = Deck()"
   ]
  },
  {
   "cell_type": "code",
   "execution_count": 308,
   "metadata": {
    "scrolled": true
   },
   "outputs": [
    {
     "data": {
      "text/plain": [
       "52"
      ]
     },
     "execution_count": 308,
     "metadata": {},
     "output_type": "execute_result"
    }
   ],
   "source": [
    "len(deck.all_cards)"
   ]
  },
  {
   "cell_type": "code",
   "execution_count": 230,
   "metadata": {},
   "outputs": [
    {
     "name": "stdout",
     "output_type": "stream",
     "text": [
      "Two of Hearts\n"
     ]
    }
   ],
   "source": [
    "print(deck.all_cards[0])"
   ]
  },
  {
   "cell_type": "code",
   "execution_count": 362,
   "metadata": {},
   "outputs": [],
   "source": [
    "deck.shuffle_deck()"
   ]
  },
  {
   "cell_type": "code",
   "execution_count": 363,
   "metadata": {},
   "outputs": [
    {
     "name": "stdout",
     "output_type": "stream",
     "text": [
      "Eight of Diamonds\n"
     ]
    }
   ],
   "source": [
    "print(player_cards[1])"
   ]
  },
  {
   "cell_type": "code",
   "execution_count": 409,
   "metadata": {},
   "outputs": [],
   "source": [
    "class Player:\n",
    "    def __init__(self, name, money):\n",
    "        self.name = name\n",
    "        self.money = money\n",
    "    \n",
    "    def __str__(self):\n",
    "        return f'Player {self.name} has ${self.money} to play Blackjack.'\n",
    "    \n",
    "    def place_bet(self):\n",
    "        bet = int(input('How much would you like to bet? '))\n",
    "        \n",
    "        while bet > self.money:\n",
    "            print(\"You don't have enough to bet that much. Bet a lower amount.\")\n",
    "            bet = int(input('Enter lower amount: '))\n",
    "            \n",
    "        self.money -= bet\n",
    "        \n",
    "        print(f'Remaining amount for Player {self.name}: ${self.money}\\n')\n",
    "        return bet"
   ]
  },
  {
   "cell_type": "code",
   "execution_count": 410,
   "metadata": {},
   "outputs": [],
   "source": [
    "player_one = Player('One', 500)"
   ]
  },
  {
   "cell_type": "code",
   "execution_count": 411,
   "metadata": {},
   "outputs": [
    {
     "name": "stdout",
     "output_type": "stream",
     "text": [
      "Player One has $500 to play Blackjack.\n"
     ]
    }
   ],
   "source": [
    "print(player_one)"
   ]
  },
  {
   "cell_type": "code",
   "execution_count": 413,
   "metadata": {},
   "outputs": [
    {
     "name": "stdout",
     "output_type": "stream",
     "text": [
      "How much would you like to bet? 43\n",
      "Remaining amount for Player One: $57\n"
     ]
    }
   ],
   "source": [
    "v = player_one.place_bet()"
   ]
  },
  {
   "cell_type": "code",
   "execution_count": null,
   "metadata": {},
   "outputs": [],
   "source": []
  },
  {
   "cell_type": "code",
   "execution_count": 418,
   "metadata": {},
   "outputs": [],
   "source": [
    "class Dealer:\n",
    "    def deal_cards(self, deck):\n",
    "        print('Dealing cards.')\n",
    "        player_cards = []\n",
    "        dealer_cards = []\n",
    "        for i in range(2):\n",
    "            player_cards.append(deck.deal_card())\n",
    "            dealer_cards.append(deck.deal_card())\n",
    "        print('Cards have been dealt.\\n')\n",
    "        print(f'Dealer card is the {dealer_cards[0]}')\n",
    "        print(f'Player\\'s cards are {player_cards[0]} and {player_cards[1]}.')\n",
    "        return player_cards, dealer_cards\n",
    "        \n",
    "    def bust(self, hand):\n",
    "        total = 0\n",
    "        for card in hand:\n",
    "            if card.rank == 'Ace':\n",
    "                if total + card.value > 21:\n",
    "                    card.value = 1\n",
    "                else:\n",
    "                    card.value = 10\n",
    "            total += card.value\n",
    "                \n",
    "        return total\n",
    "    \n",
    "    \n",
    "    def hit_or_stay_dealer(self, deck, dealer_hand, player_hand):\n",
    "        dealer_score = self.bust(dealer_hand)\n",
    "        \n",
    "        player_total = self.hit_or_stay_player(deck, player_hand)\n",
    "        \n",
    "        if player_total > 21:\n",
    "            print('Dealer wins! Game over.')\n",
    "        else:\n",
    "            print(f'Current value of dealer hand is {dealer_score}')\n",
    "\n",
    "            if (dealer_score > player_total) and dealer_score <= 21 :\n",
    "                print('Dealer wins!')\n",
    "                winner = 'Dealer'\n",
    "\n",
    "            else:    \n",
    "                while dealer_score <= 17 or dealer_score <= player_total:\n",
    "                    dealer_cards.append(deck.deal_card())\n",
    "                    print(dealer_cards[-1])\n",
    "                    dealer_score = self.bust(dealer_hand)\n",
    "                    print(f'New value of dealer hand is {dealer_score}\\n')\n",
    "            if dealer_score > 21:\n",
    "                print('BUST! Player wins!')\n",
    "                winner = 'Player'\n",
    "    \n",
    "    def hit_or_stay_player(self, deck, hand):\n",
    "        player_score = self.bust(hand)\n",
    "        \n",
    "        print(f'Current value of player\\'s hand is {player_score}')\n",
    "        answer = input('Would you like to hit or stay?: ').lower()\n",
    "\n",
    "        \n",
    "        while answer == 'hit':\n",
    "            player_cards.append(deck.deal_card())\n",
    "            print(player_cards[-1])\n",
    "            player_score = self.bust(hand)\n",
    "            print(f'New value of player hand is {player_score}\\n')\n",
    "            \n",
    "            if player_score > 21:\n",
    "                print('BUST! Dealer wins.')\n",
    "                break\n",
    "            else:\n",
    "                answer = input('Would you like to hit or stay?: ').lower()\n",
    "            \n",
    "        return player_score\n",
    "        \n",
    "                "
   ]
  },
  {
   "cell_type": "code",
   "execution_count": 394,
   "metadata": {},
   "outputs": [
    {
     "name": "stdout",
     "output_type": "stream",
     "text": [
      "Dealing cards.\n",
      "Cards have been dealt.\n",
      "\n",
      "Dealer card is the Ten of Clubs\n",
      "Player's cards are Eight of Diamonds and King of Hearts.\n"
     ]
    }
   ],
   "source": [
    "dealer = Dealer()\n",
    "player_cards, dealer_cards = dealer.deal_cards(deck)"
   ]
  },
  {
   "cell_type": "code",
   "execution_count": 395,
   "metadata": {},
   "outputs": [
    {
     "name": "stdout",
     "output_type": "stream",
     "text": [
      "17\n"
     ]
    }
   ],
   "source": [
    "print(dealer_cards[1].value + dealer_cards[0].value)"
   ]
  },
  {
   "cell_type": "code",
   "execution_count": 396,
   "metadata": {},
   "outputs": [
    {
     "data": {
      "text/plain": [
       "8"
      ]
     },
     "execution_count": 396,
     "metadata": {},
     "output_type": "execute_result"
    }
   ],
   "source": [
    "player_cards[0].value"
   ]
  },
  {
   "cell_type": "code",
   "execution_count": 397,
   "metadata": {},
   "outputs": [
    {
     "data": {
      "text/plain": [
       "10"
      ]
     },
     "execution_count": 397,
     "metadata": {},
     "output_type": "execute_result"
    }
   ],
   "source": [
    "player_cards[1].value"
   ]
  },
  {
   "cell_type": "code",
   "execution_count": 398,
   "metadata": {},
   "outputs": [
    {
     "name": "stdout",
     "output_type": "stream",
     "text": [
      "Would you like to hit or stay?: stay\n",
      "Current value of dealer hand is 17\n",
      "Six of Clubs\n",
      "New value of dealer hand is 23\n",
      "\n",
      "BUST! Player wins!\n"
     ]
    }
   ],
   "source": [
    "dealer.hit_or_stay_dealer(deck, dealer_cards, player_cards)"
   ]
  },
  {
   "cell_type": "code",
   "execution_count": null,
   "metadata": {},
   "outputs": [],
   "source": []
  },
  {
   "cell_type": "code",
   "execution_count": null,
   "metadata": {},
   "outputs": [],
   "source": []
  },
  {
   "cell_type": "code",
   "execution_count": 422,
   "metadata": {},
   "outputs": [
    {
     "name": "stdout",
     "output_type": "stream",
     "text": [
      "How much would you like to bet? 20\n",
      "Remaining amount for Player One: $480\n",
      "Dealing cards.\n",
      "Cards have been dealt.\n",
      "\n",
      "Dealer card is the Three of Hearts\n",
      "Player's cards are Four of Diamonds and Six of Clubs.\n",
      "Current value of player's hand is 10\n",
      "Would you like to hit or stay?: hit\n",
      "King of Spades\n",
      "New value of player hand is 20\n",
      "\n",
      "Would you like to hit or stay?: stay\n",
      "Current value of dealer hand is 13\n",
      "Ten of Diamonds\n",
      "New value of dealer hand is 23\n",
      "\n",
      "BUST! Player wins!\n"
     ]
    }
   ],
   "source": [
    "\n",
    "# Create deck, player, and dealer\n",
    "new_deck = Deck()\n",
    "new_deck.shuffle_deck()\n",
    "player = Player('One', 500)\n",
    "dealer = Dealer()\n",
    "\n",
    "\n",
    "# Place bet\n",
    "placed_bet = player.place_bet()\n",
    "\n",
    "# Deal cards\n",
    "player_cards, dealer_cards = dealer.deal_cards(new_deck)\n",
    "\n",
    "# Ask player if they'd like to hit or stay\n",
    "dealer.hit_or_stay_dealer(new_deck, dealer_cards, player_cards)\n",
    "\n",
    "# Add money if player wins\n",
    "if winner == 'Player':\n",
    "    player.money = placed_bet+5\n"
   ]
  },
  {
   "cell_type": "code",
   "execution_count": null,
   "metadata": {},
   "outputs": [],
   "source": []
  }
 ],
 "metadata": {
  "kernelspec": {
   "display_name": "Python 3",
   "language": "python",
   "name": "python3"
  },
  "language_info": {
   "codemirror_mode": {
    "name": "ipython",
    "version": 3
   },
   "file_extension": ".py",
   "mimetype": "text/x-python",
   "name": "python",
   "nbconvert_exporter": "python",
   "pygments_lexer": "ipython3",
   "version": "3.7.3"
  }
 },
 "nbformat": 4,
 "nbformat_minor": 1
}
